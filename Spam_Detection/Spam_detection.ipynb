{
  "cells": [
    {
      "cell_type": "code",
      "execution_count": null,
      "metadata": {
        "id": "tAtgI4m9ibBc"
      },
      "outputs": [],
      "source": [
        "!ls"
      ]
    },
    {
      "cell_type": "code",
      "execution_count": null,
      "metadata": {
        "id": "FPjEyfCVgA_l"
      },
      "outputs": [],
      "source": [
        "import pandas as pd\n",
        "from sklearn.model_selection import train_test_split\n",
        "from sklearn.feature_extraction.text import CountVectorizer\n",
        "from sklearn.naive_bayes import MultinomialNB\n",
        "from sklearn.metrics import accuracy_score, confusion_matrix, classification_report"
      ]
    },
    {
      "cell_type": "code",
      "execution_count": null,
      "metadata": {
        "id": "eQzKzR-Bh1Dx"
      },
      "outputs": [],
      "source": [
        "import pandas as pd\n",
        "\n",
        "filep='spam.csv'\n",
        "\n",
        "try:\n",
        "  df = pd.read_csv(filep, encoding='latin1')\n",
        "  print(\"Data is here\")\n",
        "\n",
        "except FileNotFoundError:\n",
        "      print(f\"No file at '{filep}'was found\")\n",
        "      print(\"Check !ls again\")\n",
        "\n",
        "      exit()"
      ]
    },
    {
      "cell_type": "code",
      "execution_count": null,
      "metadata": {
        "id": "n1LkV0AWijVZ"
      },
      "outputs": [],
      "source": [
        "df = df.iloc[:, :2].copy()\n",
        "df.rename(columns={'v1':'lable','v2':'message'},inplace=True)\n",
        "df['lable'] = df['lable'].map({'ham':0,'spam':1})\n",
        "df.dropna(subset=['lable'], inplace=True)\n",
        "display(df.head())"
      ]
    },
    {
      "cell_type": "code",
      "execution_count": null,
      "metadata": {
        "id": "hoenZD7NjgMf"
      },
      "outputs": [],
      "source": [
        "x = df['message']\n",
        "y = df['lable']\n",
        "x_train, x_test, y_train, y_test = train_test_split(x,y, test_size=0.2, random_state=10)"
      ]
    },
    {
      "cell_type": "code",
      "execution_count": null,
      "metadata": {
        "id": "WynKIIH0jnyp"
      },
      "outputs": [],
      "source": [
        "vectorizer = CountVectorizer()\n",
        "\n",
        "x_train_counts = vectorizer.fit_transform(x_train)\n",
        "\n",
        "x_test_counts = vectorizer.transform(x_test)"
      ]
    },
    {
      "cell_type": "code",
      "execution_count": null,
      "metadata": {
        "id": "wGqVkIwVkjZ4"
      },
      "outputs": [],
      "source": [
        "model = MultinomialNB()\n",
        "model.fit(x_train_counts,y_train)"
      ]
    },
    {
      "cell_type": "code",
      "execution_count": null,
      "metadata": {
        "id": "5cGS-Pekk2nN"
      },
      "outputs": [],
      "source": [
        "y_pred = model.predict(x_test_counts)\n",
        "accuracy = accuracy_score(y_test, y_pred)\n",
        "print(f\"\\n Accuracy of the model: {accuracy * 100:.2f}%\")\n",
        "print(\"\\n Confusion matrix\")\n",
        "print(confusion_matrix(y_test, y_pred))\n",
        "print(\"\\n Classification report:\")\n",
        "print(classification_report(y_test,y_pred,target_names=['Not spam (ham)', 'Spam']))"
      ]
    },
    {
      "cell_type": "code",
      "metadata": {
        "id": "bde76df9"
      },
      "source": [
        "example_message = input(\"Enter the message you want to test: \")\n",
        "\n",
        "example_message_count = vectorizer.transform([example_message])\n",
        "\n",
        "predicted_label = model.predict(example_message_count)\n",
        "\n",
        "# Convert the predicted label back to 'ham' or 'spam'\n",
        "predicted_class = 'Spam' if predicted_label[0] == 1 else 'Not spam (ham)'\n",
        "\n",
        "print(f\"The message: '{example_message}' is predicted as: {predicted_class}\")"
      ],
      "execution_count": null,
      "outputs": []
    }
  ],
  "metadata": {
    "colab": {
      "provenance": []
    },
    "kernelspec": {
      "display_name": "Python 3",
      "name": "python3"
    },
    "language_info": {
      "name": "python"
    }
  },
  "nbformat": 4,
  "nbformat_minor": 0
}