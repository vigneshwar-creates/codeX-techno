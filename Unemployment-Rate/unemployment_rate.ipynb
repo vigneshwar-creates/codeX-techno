{
  "nbformat": 4,
  "nbformat_minor": 0,
  "metadata": {
    "colab": {
      "provenance": []
    },
    "kernelspec": {
      "name": "python3",
      "display_name": "Python 3"
    },
    "language_info": {
      "name": "python"
    }
  },
  "cells": [
    {
      "cell_type": "code",
      "execution_count": null,
      "metadata": {
        "id": "sBqCA7td2sDw"
      },
      "outputs": [],
      "source": [
        "import pandas as pd\n",
        "import numpy as np\n",
        "import matplotlib.pyplot as plt\n",
        "import seaborn as sns\n",
        "import plotly.express as px\n"
      ]
    },
    {
      "cell_type": "code",
      "source": [
        "file_path = 'Unemployment_Rate_upto_11_2020.csv'\n",
        "\n",
        "try:\n",
        "  df=pd.read_csv(file_path)\n",
        "  df.columns = ['State', 'Date', 'Frequency', 'Unemployment_Rate', 'Employed', 'Labour_Participation_Rate', 'Region', 'longitude', 'latitude']\n",
        "  df['Date'] = pd.to_datetime(df['Date'], dayfirst=True)\n",
        "  df['Frequency'] = df['Frequency'].astype('category')\n",
        "  print(df.head())\n",
        "  df.info()\n",
        "except FileNotFoundError:\n",
        "  print(f\"Error: File '{file_path}' not found.\")\n",
        "except Exception as e:\n",
        "  print(f\"An error occurred: {e}\")"
      ],
      "metadata": {
        "id": "WhdZ3j6l4KJw"
      },
      "execution_count": null,
      "outputs": []
    },
    {
      "cell_type": "code",
      "source": [
        "plt.style.use('seaborn-v0_8-whitegrid')\n",
        "plt.figure(figsize=(12, 6))\n",
        "plt.title(\"India's Average Unemployment Rate Over Time\")\n",
        "df.groupby('Date')['Unemployment_Rate'].mean().plot()\n",
        "plt.xlabel('Date')\n",
        "plt.ylabel('Average Unemployment Rate (%)')\n",
        "plt.show()"
      ],
      "metadata": {
        "id": "nkAS4A0j3-px"
      },
      "execution_count": null,
      "outputs": []
    },
    {
      "cell_type": "code",
      "source": [
        "plt.figure(figsize=(12, 8))\n",
        "avg_unemployment_by_state = df.groupby('State')['Unemployment_Rate'].mean().sort_values(ascending=False)\n",
        "sns.barplot(x=avg_unemployment_by_state.values, y=avg_unemployment_by_state.index)\n",
        "plt.title('Average Unemployment Rate by State')\n",
        "plt.xlabel('Average Unemployment Rate (%)')\n",
        "plt.ylabel('State')\n",
        "plt.show()"
      ],
      "metadata": {
        "id": "aJgUmoss4AHE"
      },
      "execution_count": null,
      "outputs": []
    }
  ]
}