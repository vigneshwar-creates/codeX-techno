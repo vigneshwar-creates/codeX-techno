{
  "nbformat": 4,
  "nbformat_minor": 0,
  "metadata": {
    "colab": {
      "provenance": []
    },
    "kernelspec": {
      "name": "python3",
      "display_name": "Python 3"
    },
    "language_info": {
      "name": "python"
    }
  },
  "cells": [
    {
      "cell_type": "code",
      "execution_count": null,
      "metadata": {
        "id": "eKhW0VtjSXZR"
      },
      "outputs": [],
      "source": [
        "!ls Data/Advertising.csv"
      ]
    },
    {
      "cell_type": "code",
      "source": [
        "import pandas as pd\n",
        "import numpy as np\n",
        "import matplotlib.pyplot as plt\n",
        "import seaborn as sns\n",
        "from sklearn.model_selection import train_test_split\n",
        "from sklearn.linear_model import LinearRegression\n",
        "from sklearn import metrics\n",
        "\n",
        "filep='Data/Advertising.csv' #<--- State your data location here\n",
        "\n",
        "try:\n",
        "  df = pd.read_csv(filep)\n",
        "  print(\"Data is here\")\n",
        "\n",
        "  if 'Unnamed: 0' in df.columns:\n",
        "    df=df.drop('Unnamed: 0',axis=1)\n",
        "    print(\"Cleared up\")\n",
        "\n",
        "    df.head()\n",
        "\n",
        "except FileNotFoundError:\n",
        "      print(f\"No file at '{filep}'was found\")\n",
        "      print(\"Check !ls again\")"
      ],
      "metadata": {
        "id": "Hg6x2j8gTd5O"
      },
      "execution_count": null,
      "outputs": []
    },
    {
      "cell_type": "code",
      "source": [
        "x = df[['TV', 'Radio', 'Newspaper']]\n",
        "y = df['Sales']\n",
        "x_train, x_test, y_train, y_test = train_test_split(x,y,test_size =0.2, random_state=10)\n",
        "model = LinearRegression()\n",
        "model.fit(x_train, y_train)"
      ],
      "metadata": {
        "id": "ArJC4gMnX4R-"
      },
      "execution_count": null,
      "outputs": []
    },
    {
      "cell_type": "code",
      "source": [
        "predictions = model.predict(x_test)\n",
        "\n",
        "mae = metrics.mean_absolute_error(y_test, predictions)\n",
        "rmse = np.sqrt(metrics.mean_squared_error(y_test, predictions))\n",
        "r2 = metrics.r2_score(y_test, predictions)"
      ],
      "metadata": {
        "id": "-zig3QoMd4MT"
      },
      "execution_count": 43,
      "outputs": []
    },
    {
      "cell_type": "code",
      "source": [
        "coeff_df = pd.DataFrame(model.coef_, x.columns, columns=['Coefficient'])\n",
        "plt.scatter(y_test, predictions)\n",
        "\n",
        "plt.xlabel('Sales')\n",
        "plt.ylabel('Prediction')\n",
        "plt.title('Actual VS Predicted sales')\n",
        "plt.plot([y_test.min(), y_test.max()], [y_test.min(), y_test.max()], 'r-')"
      ],
      "metadata": {
        "id": "sPGicTxffEkW"
      },
      "execution_count": null,
      "outputs": []
    }
  ]
}